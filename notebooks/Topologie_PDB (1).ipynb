{
  "nbformat": 4,
  "nbformat_minor": 0,
  "metadata": {
    "colab": {
      "provenance": []
    },
    "kernelspec": {
      "name": "python3",
      "display_name": "Python 3"
    },
    "language_info": {
      "name": "python"
    }
  },
  "cells": [
    {
      "cell_type": "code",
      "source": [
        "import pandas as pd\n",
        "import numpy as np\n",
        "import urllib.request\n",
        "import os\n",
        "from io import StringIO\n"
      ],
      "metadata": {
        "id": "OVN6aY5V42K7"
      },
      "execution_count": null,
      "outputs": []
    },
    {
      "cell_type": "markdown",
      "source": [
        "## Fonctions auxiliaires pour trouver la topologie à partir du fichier PDB"
      ],
      "metadata": {
        "id": "4WL0mkel58R8"
      }
    },
    {
      "cell_type": "code",
      "source": [
        "class guanine:\n",
        "    def __init__(self,conformation,nb):\n",
        "        self.conformation = conformation #anti = 1; syn = 0\n",
        "        self.nb = nb\n",
        "\n",
        "class G4:\n",
        "    def __init__(self,tetrades,nb_mol,topo,bool):\n",
        "        self.t = tetrades\n",
        "        self.topologie = topo\n",
        "        self.nb_mol = nb_mol\n",
        "        self.diag_loop = bool"
      ],
      "metadata": {
        "id": "YWZ6P7OA57XL"
      },
      "execution_count": null,
      "outputs": []
    },
    {
      "cell_type": "code",
      "source": [
        "cut_H1 = 3.075641804556364\n",
        "\n",
        "def classication_syn_anti(G):    #Regarde la distance entre H8 et H1' qui est caractéristique de syn/anti\n",
        "    H8 = G.loc[ (G[2] == 'H8') ,6:8].values[0]            #On prend la position de H8\n",
        "    H1p = G.loc[ (G[2] == 'H1\\'') ,6:8].values[0]\n",
        "    dist = np.linalg.norm(H8-H1p)\n",
        "    if dist>cut_H1:\n",
        "        return 1  #anti\n",
        "    else:\n",
        "        return 0 #sin\n",
        "\n",
        "def g_from_nb(g_list,nb):   #obtenir la class guanine à partir du nombre de base\n",
        "    i = 0\n",
        "    while g_list[i].nb != nb:\n",
        "        i+=1\n",
        "    return g_list[i]\n",
        "\n",
        "def build_g4(name):\n",
        "\n",
        "    text = urllib.request.urlopen('https://files.rcsb.org/view/'+name+'.pdb').read().decode()\n",
        "\n",
        "    n_mol = 0\n",
        "\n",
        "    def following_line(text,k):\n",
        "        c = k\n",
        "        while text[c] != '\\n':\n",
        "            c+=1\n",
        "        return c+1\n",
        "\n",
        "    ind_start = 0\n",
        "    ind_end = 0\n",
        "\n",
        "    while text[ind_start:ind_start+4]!= \"ATOM\":      #on tronque le début du fichier qui ne nous est pas utile pour l'instant\n",
        "        ind_start = following_line(text,ind_start)\n",
        "\n",
        "    ind_end = ind_start\n",
        "    bool = True\n",
        "    while bool:\n",
        "        n_mol +=1\n",
        "        bool = False\n",
        "        while text[ind_end:ind_end+3] != \"TER\":   #idem pour la fin du fichier\n",
        "            ind_end = following_line(text,ind_end)\n",
        "        f_l = following_line(text,ind_end)\n",
        "        if text[f_l:f_l+4] == \"ATOM\":\n",
        "            ind_end = f_l\n",
        "            bool = True\n",
        "\n",
        "    file = StringIO(text[ind_start:ind_end])\n",
        "\n",
        "    data = pd.read_csv (file, delimiter=\" +\", header = None,engine = 'python')\n",
        "\n",
        "\n",
        "    nucleotid_number = []\n",
        "\n",
        "    current_nb_base = 1\n",
        "    last_nb_base = 1\n",
        "    for k in range(len(data)):  #On résout le pb de repartir à la base n°1 si plusieurs molécules\n",
        "        nb_base = data.iloc[k,5]\n",
        "        if nb_base == current_nb_base + 1:\n",
        "            current_nb_base += 1\n",
        "            last_nb_base = nb_base\n",
        "        elif nb_base < current_nb_base -1:\n",
        "            if nb_base != last_nb_base:\n",
        "                current_nb_base +=1\n",
        "                last_nb_base = nb_base\n",
        "                data.iloc[k,5] = current_nb_base\n",
        "            else:\n",
        "                data.iloc[k,5] = current_nb_base\n",
        "    for k in range(len(data)):                 #on sélectionne les numéros de nucléotides correspondant à des G\n",
        "        if data.iloc[k,3] == \"DG\":\n",
        "            nb = data.iloc[k,5]\n",
        "            if not nb in nucleotid_number:\n",
        "                nucleotid_number.append(nb)\n",
        "    anti = 0\n",
        "    syn = 0\n",
        "\n",
        "    guanine_list = []\n",
        "\n",
        "    for nb in nucleotid_number:\n",
        "        G = data.loc[ data[5]== nb,:]\n",
        "        classe = classication_syn_anti(G)\n",
        "        g = guanine(classe,nb)\n",
        "        guanine_list.append(g)\n",
        "\n",
        "    tetrades_list = []\n",
        "    tetrades_g_list = []\n",
        "    numbers = len(nucleotid_number) * [0] #On regarde les numéros de G qui sont déjà dans un tetrade\n",
        "    ones = len(nucleotid_number)*[1]\n",
        "    while numbers != ones:\n",
        "        tetrade = []\n",
        "        tetrade_g = []\n",
        "        i = 0\n",
        "        while numbers[i]==1: #on prend le premier numéro qui n'est pas déjà traité\n",
        "            i+=1\n",
        "        indexs = [i]\n",
        "        O6 = data.loc[ (data[2] == 'O6') & (data[5] == nucleotid_number[i]) ,6:8].values[0]  #distance O6-H1 caractéristique du fait d'être côte à côte\n",
        "        H1 = data.loc[ (data[2] == 'H1') & (data[5] == nucleotid_number[i]),6:8].values[0]\n",
        "        tetrade.append(nucleotid_number[i])\n",
        "        tetrade_g.append(g_from_nb(guanine_list,nucleotid_number[i]))\n",
        "        bool = True\n",
        "        while bool and len(tetrade)<4:\n",
        "            bool = False  #regarde si on a ajouté un autre G à la tetrade en cours\n",
        "            for k in range(len(nucleotid_number)):\n",
        "                if (not nucleotid_number[k] in tetrade) and numbers[k]==0:\n",
        "                    O6bis = data.loc[ (data[2] == 'O6') & (data[5] == nucleotid_number[k]) ,6:8].values[0]\n",
        "                    H1bis = data.loc[ (data[2] == 'H1') & (data[5] == nucleotid_number[k]),6:8].values[0]\n",
        "                    if np.linalg.norm(O6bis - H1) < 2.5 or np.linalg.norm(O6 - H1bis) < 2.5:\n",
        "                        tetrade.append(nucleotid_number[k])\n",
        "                        tetrade_g.append(g_from_nb(guanine_list,nucleotid_number[k]))\n",
        "                        bool = True\n",
        "                        indexs.append(k)\n",
        "                        O6 = O6bis\n",
        "                        H1 = H1bis\n",
        "        for x in indexs:\n",
        "            numbers[x] =  1\n",
        "        if len(tetrade)>3:\n",
        "            tetrades_list.append(tetrade)\n",
        "            tetrades_g_list.append(tetrade_g)\n",
        "    t1,t2 = tetrades_list[0],tetrades_list[1]\n",
        "    up = 0\n",
        "    down = 0\n",
        "    diag_loop = False\n",
        "    for i in range(len(t1)-1):\n",
        "        if t1[i]>t1[i+1]:\n",
        "            diag_loop = True\n",
        "            continue\n",
        "    for i in range(len(t1)):\n",
        "        if t1[i]<t2[i]:\n",
        "            up+=1\n",
        "        else:\n",
        "            down+=1\n",
        "    if up == 0 or down == 0:\n",
        "        ratio = 10  #parallel\n",
        "    else:\n",
        "        ratio = np.max([up/down,down/up])\n",
        "    if ratio == 10:\n",
        "        topo = \"parallel\"\n",
        "    elif ratio == 1:\n",
        "        topo = \"antiparallel\"\n",
        "    else:\n",
        "        topo = \"hybrid\"\n",
        "    return G4(tetrades_g_list,n_mol,topo,diag_loop)"
      ],
      "metadata": {
        "id": "YHQR-Oua42AP"
      },
      "execution_count": null,
      "outputs": []
    },
    {
      "cell_type": "code",
      "source": [
        "def Topologie(name):  ## name = PDB id\n",
        "    quad = build_g4(name)\n",
        "    t_list = quad.t\n",
        "    for i in range(len(t_list)):\n",
        "        print(\"\\n Tétrade \"+str(i+1)+\" : \")\n",
        "        for g in t_list[i]:\n",
        "            if g.conformation == 1:\n",
        "                conf = \"anti\"\n",
        "            else:\n",
        "                conf = \"syn\"\n",
        "            print(str(int(g.nb))+\" (\"+conf+\")   \")\n",
        "    nmol = quad.nb_mol\n",
        "    if nmol == 1:\n",
        "        type = \"monomeric\"\n",
        "    elif nmol == 2:\n",
        "        type = \"dimeric\"\n",
        "    elif nmol == 3:\n",
        "        type = \"trimeric\"\n",
        "    else:\n",
        "        type = \"tetrameric\"\n",
        "    print(\"\\n => \"+quad.topologie+ \"  (\"+type+\")\")\n",
        "    if quad.diag_loop and nmol ==1 :\n",
        "        print(\"\\n There is a diagonal loop\")"
      ],
      "metadata": {
        "id": "HVnsOoNh6jSt"
      },
      "execution_count": null,
      "outputs": []
    },
    {
      "cell_type": "markdown",
      "source": [
        "## Exemple d'application de l'algo"
      ],
      "metadata": {
        "id": "g4xPiL1n6OTM"
      }
    },
    {
      "cell_type": "code",
      "source": [
        "Topologie(\"2kpr\")   ## donner en entrée l'id PDB du G4"
      ],
      "metadata": {
        "colab": {
          "base_uri": "https://localhost:8080/"
        },
        "id": "PTbCQbet40xn",
        "outputId": "6c38bcdf-24e1-41c1-fabd-497568ce7693"
      },
      "execution_count": null,
      "outputs": [
        {
          "output_type": "stream",
          "name": "stdout",
          "text": [
            "\n",
            " Tétrade 1 : \n",
            "1 (syn)   \n",
            "6 (anti)   \n",
            "17 (anti)   \n",
            "13 (anti)   \n",
            "\n",
            " Tétrade 2 : \n",
            "2 (anti)   \n",
            "5 (syn)   \n",
            "16 (syn)   \n",
            "12 (anti)   \n",
            "\n",
            " Tétrade 3 : \n",
            "7 (anti)   \n",
            "11 (syn)   \n",
            "14 (anti)   \n",
            "18 (anti)   \n",
            "\n",
            " => hybrid  (monomeric)\n",
            "\n",
            " There is a diagonal loop\n"
          ]
        }
      ]
    }
  ]
}